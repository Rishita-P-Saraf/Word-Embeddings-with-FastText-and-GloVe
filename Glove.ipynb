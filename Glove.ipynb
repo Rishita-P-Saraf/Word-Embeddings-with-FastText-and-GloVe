{
 "cells": [
  {
   "cell_type": "code",
   "execution_count": 2,
   "id": "29e97212",
   "metadata": {},
   "outputs": [],
   "source": [
    "import zipfile\n",
    "import urllib.request\n"
   ]
  },
  {
   "cell_type": "code",
   "execution_count": null,
   "id": "c8bfbf03",
   "metadata": {},
   "outputs": [
    {
     "data": {
      "text/plain": [
       "('glove.zip', <http.client.HTTPMessage at 0x18b87a02b60>)"
      ]
     },
     "execution_count": 1,
     "metadata": {},
     "output_type": "execute_result"
    }
   ],
   "source": [
    "\n",
    "# 'https://nlp.stanford.edu/data/glove.840B.300d.zip'   - Common Crawl\n",
    "# 'https://nlp.stanford.edu/data/glove.twitter.27B.zip' - Twitter\n",
    "# 'http://nlp.stanford.edu/data/glove.6B.zip'           - Wikipedia\n",
    "\n",
    "urllib.request.urlretrieve(\"http://nlp.stanford.edu/data/glove.6B.zip\", \"glove.zip\")"
   ]
  },
  {
   "cell_type": "code",
   "execution_count": 3,
   "id": "1c6db3a5",
   "metadata": {},
   "outputs": [],
   "source": [
    "with zipfile.ZipFile('glove.zip', 'r') as zip_ref:\n",
    "    zip_ref.extractall('glove')"
   ]
  },
  {
   "cell_type": "code",
   "execution_count": 9,
   "id": "aa125094",
   "metadata": {},
   "outputs": [
    {
     "name": "stdout",
     "output_type": "stream",
     "text": [
      "Defaulting to user installation because normal site-packages is not writeable\n",
      "Collecting gensim\n",
      "  Using cached gensim-4.3.3-cp310-cp310-win_amd64.whl (24.0 MB)\n",
      "Requirement already satisfied: smart-open>=1.8.1 in c:\\users\\rishi\\appdata\\roaming\\python\\python310\\site-packages (from gensim) (7.1.0)\n",
      "Requirement already satisfied: numpy<2.0,>=1.18.5 in c:\\users\\rishi\\appdata\\roaming\\python\\python310\\site-packages (from gensim) (1.26.4)\n",
      "Collecting scipy<1.14.0,>=1.7.0\n",
      "  Using cached scipy-1.13.1-cp310-cp310-win_amd64.whl (46.2 MB)\n",
      "Requirement already satisfied: wrapt in c:\\users\\rishi\\appdata\\roaming\\python\\python310\\site-packages (from smart-open>=1.8.1->gensim) (1.17.2)\n",
      "Installing collected packages: scipy, gensim\n",
      "  Attempting uninstall: scipy\n",
      "    Found existing installation: scipy 1.15.3\n",
      "    Uninstalling scipy-1.15.3:\n",
      "      Successfully uninstalled scipy-1.15.3\n"
     ]
    },
    {
     "name": "stderr",
     "output_type": "stream",
     "text": [
      "ERROR: Could not install packages due to an OSError: [WinError 5] Access is denied: 'C:\\\\Users\\\\rishi\\\\AppData\\\\Roaming\\\\Python\\\\Python310\\\\site-packages\\\\~cipy.libs\\\\libscipy_openblas-f07f5a5d207a3a47104dca54d6d0c86a.dll'\n",
      "Check the permissions.\n",
      "\n",
      "WARNING: You are using pip version 21.2.3; however, version 25.2 is available.\n",
      "You should consider upgrading via the 'C:\\Program Files\\Python310\\python.exe -m pip install --upgrade pip' command.\n"
     ]
    }
   ],
   "source": [
    "!pip install gensim"
   ]
  },
  {
   "cell_type": "code",
   "execution_count": 10,
   "id": "fb98c3de",
   "metadata": {},
   "outputs": [
    {
     "ename": "ModuleNotFoundError",
     "evalue": "No module named 'gensim'",
     "output_type": "error",
     "traceback": [
      "\u001b[1;31m---------------------------------------------------------------------------\u001b[0m",
      "\u001b[1;31mModuleNotFoundError\u001b[0m                       Traceback (most recent call last)",
      "Cell \u001b[1;32mIn[10], line 1\u001b[0m\n\u001b[1;32m----> 1\u001b[0m \u001b[38;5;28;01mfrom\u001b[39;00m\u001b[38;5;250m \u001b[39m\u001b[38;5;21;01mgensim\u001b[39;00m\u001b[38;5;21;01m.\u001b[39;00m\u001b[38;5;21;01mscripts\u001b[39;00m\u001b[38;5;21;01m.\u001b[39;00m\u001b[38;5;21;01mglove2word2vec\u001b[39;00m\u001b[38;5;250m \u001b[39m\u001b[38;5;28;01mimport\u001b[39;00m glove2word2vec\n\u001b[0;32m      3\u001b[0m glove_input_file \u001b[38;5;241m=\u001b[39m \u001b[38;5;124m'\u001b[39m\u001b[38;5;124mglove/glove.6B.300d.txt\u001b[39m\u001b[38;5;124m'\u001b[39m\n\u001b[0;32m      4\u001b[0m word2vec_output_file \u001b[38;5;241m=\u001b[39m \u001b[38;5;124m'\u001b[39m\u001b[38;5;124mglove.6B.300d.txt\u001b[39m\u001b[38;5;124m'\u001b[39m\n",
      "\u001b[1;31mModuleNotFoundError\u001b[0m: No module named 'gensim'"
     ]
    }
   ],
   "source": [
    "from gensim.scripts.glove2word2vec import glove2word2vec\n",
    "\n",
    "glove_input_file = 'glove/glove.6B.300d.txt'\n",
    "word2vec_output_file = 'glove.6B.300d.txt'\n",
    "\n",
    "glove2word2vec(glove_input_file, word2vec_output_file)"
   ]
  },
  {
   "cell_type": "code",
   "execution_count": null,
   "id": "86b4d8d9",
   "metadata": {},
   "outputs": [],
   "source": [
    "from gensim.models import KeyedVectors\n",
    "\n",
    "filename = 'glove.6B.300d.txt'\n",
    "model = KeyedVectors.load_word2vec_format(filename, binary=False)"
   ]
  }
 ],
 "metadata": {
  "kernelspec": {
   "display_name": "Python 3",
   "language": "python",
   "name": "python3"
  },
  "language_info": {
   "codemirror_mode": {
    "name": "ipython",
    "version": 3
   },
   "file_extension": ".py",
   "mimetype": "text/x-python",
   "name": "python",
   "nbconvert_exporter": "python",
   "pygments_lexer": "ipython3",
   "version": "3.10.0"
  }
 },
 "nbformat": 4,
 "nbformat_minor": 5
}
